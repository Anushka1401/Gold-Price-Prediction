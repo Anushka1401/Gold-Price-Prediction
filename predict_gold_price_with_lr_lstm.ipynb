{
  "cells": [
    {
      "cell_type": "code",
      "execution_count": 1,
      "metadata": {
        "id": "QDD4-bkMlNbQ"
      },
      "outputs": [],
      "source": [
        "## 1. Install and import required library"
      ]
    },
    {
      "cell_type": "code",
      "execution_count": 2,
      "metadata": {
        "id": "IOHobEZUlNbd"
      },
      "outputs": [],
      "source": [
        "#!pip install yfinance\n",
        "#!pip install keras\n",
        "#!pip install tensorflow"
      ]
    },
    {
      "cell_type": "code",
      "execution_count": 3,
      "metadata": {
        "id": "tzZ2III5lNbl",
        "colab": {
          "base_uri": "https://localhost:8080/",
          "height": 373
        },
        "outputId": "679fdf63-6a52-4434-d63a-38adfcd0d805"
      },
      "outputs": [
        {
          "output_type": "error",
          "ename": "ModuleNotFoundError",
          "evalue": "ignored",
          "traceback": [
            "\u001b[0;31m---------------------------------------------------------------------------\u001b[0m",
            "\u001b[0;31mModuleNotFoundError\u001b[0m                       Traceback (most recent call last)",
            "\u001b[0;32m<ipython-input-3-c78dc00127ef>\u001b[0m in \u001b[0;36m<module>\u001b[0;34m\u001b[0m\n\u001b[1;32m      1\u001b[0m \u001b[0;32mimport\u001b[0m \u001b[0mpandas\u001b[0m \u001b[0;32mas\u001b[0m \u001b[0mpd\u001b[0m\u001b[0;34m\u001b[0m\u001b[0;34m\u001b[0m\u001b[0m\n\u001b[1;32m      2\u001b[0m \u001b[0;32mimport\u001b[0m \u001b[0mnumpy\u001b[0m \u001b[0;32mas\u001b[0m \u001b[0mnp\u001b[0m\u001b[0;34m\u001b[0m\u001b[0;34m\u001b[0m\u001b[0m\n\u001b[0;32m----> 3\u001b[0;31m \u001b[0;32mimport\u001b[0m \u001b[0myfinance\u001b[0m \u001b[0;32mas\u001b[0m \u001b[0myf\u001b[0m\u001b[0;34m\u001b[0m\u001b[0;34m\u001b[0m\u001b[0m\n\u001b[0m\u001b[1;32m      4\u001b[0m \u001b[0;32mimport\u001b[0m \u001b[0mmatplotlib\u001b[0m\u001b[0;34m.\u001b[0m\u001b[0mpyplot\u001b[0m \u001b[0;32mas\u001b[0m \u001b[0mplt\u001b[0m\u001b[0;34m\u001b[0m\u001b[0;34m\u001b[0m\u001b[0m\n\u001b[1;32m      5\u001b[0m \u001b[0mget_ipython\u001b[0m\u001b[0;34m(\u001b[0m\u001b[0;34m)\u001b[0m\u001b[0;34m.\u001b[0m\u001b[0mrun_line_magic\u001b[0m\u001b[0;34m(\u001b[0m\u001b[0;34m'matplotlib'\u001b[0m\u001b[0;34m,\u001b[0m \u001b[0;34m'inline'\u001b[0m\u001b[0;34m)\u001b[0m\u001b[0;34m\u001b[0m\u001b[0;34m\u001b[0m\u001b[0m\n",
            "\u001b[0;31mModuleNotFoundError\u001b[0m: No module named 'yfinance'",
            "",
            "\u001b[0;31m---------------------------------------------------------------------------\u001b[0;32m\nNOTE: If your import is failing due to a missing package, you can\nmanually install dependencies using either !pip or !apt.\n\nTo view examples of installing some common dependencies, click the\n\"Open Examples\" button below.\n\u001b[0;31m---------------------------------------------------------------------------\u001b[0m\n"
          ],
          "errorDetails": {
            "actions": [
              {
                "action": "open_url",
                "actionText": "Open Examples",
                "url": "/notebooks/snippets/importing_libraries.ipynb"
              }
            ]
          }
        }
      ],
      "source": [
        "import pandas as pd\n",
        "import numpy as np\n",
        "import yfinance as yf\n",
        "import matplotlib.pyplot as plt\n",
        "%matplotlib inline\n",
        "\n",
        "from sklearn.linear_model import LinearRegression\n",
        "from sklearn.preprocessing import MinMaxScaler\n",
        "\n",
        "import keras\n",
        "from keras.models import Sequential\n",
        "from keras.layers import Dense, LSTM\n",
        "import keras.backend as K"
      ]
    },
    {
      "cell_type": "markdown",
      "metadata": {
        "id": "12vYJnT7lNbn"
      },
      "source": [
        "### 2. Visualization"
      ]
    },
    {
      "cell_type": "code",
      "execution_count": null,
      "metadata": {
        "id": "o8bo2AlxlNbr"
      },
      "outputs": [],
      "source": [
        "# Download data\n",
        "Df = yf.download('GLD', end=\"2021-04-20\",  auto_adjust=True)\n",
        "Df.to_excel(\"data.xlsx\")\n",
        "Df.head()"
      ]
    },
    {
      "cell_type": "code",
      "execution_count": null,
      "metadata": {
        "id": "lD84drYglNbs"
      },
      "outputs": [],
      "source": [
        "!mkdir output\n",
        "# Only keep close columns\n",
        "Df = Df[['Close']]\n",
        "\n",
        "# Drop rows with missing values\n",
        "Df = Df.dropna()\n",
        "\n",
        "# Plot the closing price of GLD\n",
        "Df.Close.plot(figsize=(15, 7), color='r')\n",
        "plt.ylabel(\"Gold ETF Prices\")\n",
        "plt.title(\"Gold ETF Price Series\")\n",
        "plt.savefig('output/draw01.png')\n",
        "plt.show()"
      ]
    },
    {
      "cell_type": "markdown",
      "metadata": {
        "id": "xJvaU2bClNbw"
      },
      "source": [
        "### 3. Define explanatory variables"
      ]
    },
    {
      "cell_type": "code",
      "execution_count": null,
      "metadata": {
        "id": "5lQ3lZKFlNbx"
      },
      "outputs": [],
      "source": [
        "Df['S_3'] = Df['Close'].rolling(window=3).mean()\n",
        "Df['S_9'] = Df['Close'].rolling(window=9).mean()\n",
        "Df['next_day_price'] = Df['Close'].shift(-1)\n",
        "\n",
        "Df = Df.dropna()\n",
        "X = Df[['S_3', 'S_9']]\n",
        "X.head(10)\n"
      ]
    },
    {
      "cell_type": "code",
      "execution_count": null,
      "metadata": {
        "id": "ZaKsg_iKlNby"
      },
      "outputs": [],
      "source": [
        "# Define dependent variable\n",
        "y = Df['next_day_price']\n",
        "y.head(10)"
      ]
    },
    {
      "cell_type": "markdown",
      "metadata": {
        "id": "dzhiu1ZWlNbz"
      },
      "source": [
        "### 4. Split the data into train and test dataset"
      ]
    },
    {
      "cell_type": "code",
      "execution_count": null,
      "metadata": {
        "id": "KtnhWnFilNb0"
      },
      "outputs": [],
      "source": [
        "t = .8\n",
        "t = int(t*len(Df))\n",
        "\n",
        "# Train dataset\n",
        "X_train = X[:t]\n",
        "y_train = y[:t]\n",
        "\n",
        "# Test dataset\n",
        "X_test = X[t:]\n",
        "y_test = y[t:]"
      ]
    },
    {
      "cell_type": "markdown",
      "metadata": {
        "id": "87cI0YuQlNb2"
      },
      "source": [
        "### 5. Linear Regression"
      ]
    },
    {
      "cell_type": "markdown",
      "metadata": {
        "id": "ZHlD0K-HlNb2"
      },
      "source": [
        "#### 5.1 Create a linear regression model"
      ]
    },
    {
      "cell_type": "code",
      "execution_count": null,
      "metadata": {
        "id": "yyMvuax4lNb3"
      },
      "outputs": [],
      "source": [
        "linear = LinearRegression().fit(X_train, y_train)\n",
        "print(\"Linear Regression model\")\n",
        "print(\"Gold ETF Price (y) = %.2f * 3 Days Moving Average (x1) \\\n",
        "+ %.2f * 9 Days Moving Average (x2) \\\n",
        "+ %.2f (constant)\" % (linear.coef_[0], linear.coef_[1], linear.intercept_))"
      ]
    },
    {
      "cell_type": "markdown",
      "metadata": {
        "id": "7t-oOXRnlNb3"
      },
      "source": [
        "#### 5.2 Predicting the Gold ETF prices"
      ]
    },
    {
      "cell_type": "code",
      "execution_count": null,
      "metadata": {
        "id": "esZ6bXOtlNb4"
      },
      "outputs": [],
      "source": [
        "\n",
        "predicted_price = linear.predict(X_test)\n",
        "predicted_price = pd.DataFrame(predicted_price, index=y_test.index, columns=['price'])\n",
        "predicted_price.plot(figsize=(15, 10))\n",
        "y_test.plot()\n",
        "plt.legend(['predicted_price', 'actual_price'])\n",
        "plt.ylabel(\"Gold ETF Price\")\n",
        "plt.savefig('output/draw02.png')\n",
        "plt.show()"
      ]
    },
    {
      "cell_type": "markdown",
      "metadata": {
        "id": "cwAhI4ABlNb5"
      },
      "source": [
        "#### 5.3 the goodness of the fit"
      ]
    },
    {
      "cell_type": "code",
      "execution_count": null,
      "metadata": {
        "id": "6GP8Km0rlNb5"
      },
      "outputs": [],
      "source": [
        "r2_score = linear.score(X[t:], y[t:])*100\n",
        "float(\"{0:.2f}\".format(r2_score))"
      ]
    },
    {
      "cell_type": "code",
      "execution_count": null,
      "metadata": {
        "id": "vu0eXzxmlNb5"
      },
      "outputs": [],
      "source": [
        "y_pred = linear.predict(X_test)\n",
        "delta = sum(np.absolute(y_pred - y_test))\n",
        "print(delta)"
      ]
    },
    {
      "cell_type": "code",
      "execution_count": null,
      "metadata": {
        "id": "nzPiOc9FlNb6"
      },
      "outputs": [],
      "source": [
        "import math\n",
        "from sklearn.metrics import mean_squared_error\n",
        "sc = MinMaxScaler()\n",
        "\n",
        "y_train = sc.fit_transform(Df[['Close']][:t])\n",
        "y_test = y_test * sc.scale_\n",
        "y_pred = y_pred * sc.scale_\n",
        "\n",
        "rmse = 100 - 100 * math.sqrt(mean_squared_error(y_test, y_pred))\n",
        "print(rmse)"
      ]
    },
    {
      "cell_type": "markdown",
      "metadata": {
        "id": "MqVGvAsflNb7"
      },
      "source": [
        "### 6. LSTM"
      ]
    },
    {
      "cell_type": "markdown",
      "metadata": {
        "id": "2LKJEmIBlNb7"
      },
      "source": [
        "#### 6.1 Get dataset"
      ]
    },
    {
      "cell_type": "code",
      "execution_count": null,
      "metadata": {
        "id": "ANswfbK-lNb7"
      },
      "outputs": [],
      "source": [
        "# Download data\n",
        "Df = yf.download('GLD', end=\"2021-04-20\", auto_adjust=True)\n",
        "\n",
        "# Only keep close columns\n",
        "Df = Df[['Close']]\n",
        "\n",
        "# Drop rows with missing values\n",
        "Df = Df.dropna()\n",
        "\n",
        "train, test = np.split(Df, [int(.8*len(Df))])\n",
        "train.shape"
      ]
    },
    {
      "cell_type": "code",
      "execution_count": null,
      "metadata": {
        "id": "-zetpVw_lNb8"
      },
      "outputs": [],
      "source": [
        "sc = MinMaxScaler()\n",
        "\n",
        "train_sc = sc.fit_transform(train)\n",
        "test_sc = sc.transform(test)"
      ]
    },
    {
      "cell_type": "code",
      "execution_count": null,
      "metadata": {
        "id": "-hWaqAxblNb9"
      },
      "outputs": [],
      "source": [
        "print(sc.scale_)"
      ]
    },
    {
      "cell_type": "code",
      "execution_count": null,
      "metadata": {
        "id": "tIVqmaM1lNb-"
      },
      "outputs": [],
      "source": [
        "X_train = train_sc[:-1]\n",
        "y_train = train_sc[1:]\n",
        "\n",
        "X_test = test_sc[:-1]\n",
        "y_test = test_sc[1:]"
      ]
    },
    {
      "cell_type": "code",
      "execution_count": null,
      "metadata": {
        "id": "AeAoW186lNb_"
      },
      "outputs": [],
      "source": [
        "X_train_t = X_train[:, None]\n",
        "X_test_t = X_test[:, None]"
      ]
    },
    {
      "cell_type": "code",
      "execution_count": null,
      "metadata": {
        "id": "h0WeUjn8lNcB"
      },
      "outputs": [],
      "source": [
        "print(train.shape, test.shape)"
      ]
    },
    {
      "cell_type": "markdown",
      "metadata": {
        "id": "k013yEzPlNcB"
      },
      "source": [
        "#### 6.2 Create Model"
      ]
    },
    {
      "cell_type": "code",
      "execution_count": null,
      "metadata": {
        "id": "xSaiLZfolNcB"
      },
      "outputs": [],
      "source": [
        "def acr(y_train, y_pred):\n",
        "    return K.sqrt(K.mean(K.square(y_pred - y_train), axis=-1))"
      ]
    },
    {
      "cell_type": "code",
      "execution_count": null,
      "metadata": {
        "id": "lHpjWCZFlNcC"
      },
      "outputs": [],
      "source": [
        "K.clear_session()\n",
        "model = Sequential()\n",
        "\n",
        "model.add(LSTM(50, input_shape=(1, 1)))\n",
        "\n",
        "model.add(Dense(1))\n",
        "\n",
        "model.compile(loss='mean_squared_error', optimizer='adam', metrics=[acr])\n",
        "model.summary()"
      ]
    },
    {
      "cell_type": "markdown",
      "metadata": {
        "id": "1r7qXGVNlNcD"
      },
      "source": [
        "#### 6.3 Train model"
      ]
    },
    {
      "cell_type": "code",
      "execution_count": null,
      "metadata": {
        "id": "mMQKzsUelNcD"
      },
      "outputs": [],
      "source": [
        "%%time\n",
        "history = model.fit(X_train_t, y_train, epochs=50, verbose=0)"
      ]
    },
    {
      "cell_type": "code",
      "execution_count": null,
      "metadata": {
        "id": "7XPjk48NlNcD"
      },
      "outputs": [],
      "source": [
        "%%time\n",
        "y_pred = model.predict(X_test_t)\n",
        "\n",
        "y_test_plot = pd.DataFrame(index=test.index)\n",
        "y_test_plot = y_test_plot.iloc[1:]\n",
        "y_test_plot['value'] = y_test / sc.scale_\n",
        "\n",
        "y_pred_plot = pd.DataFrame(index=test.index)\n",
        "y_pred_plot = y_pred_plot.iloc[1:]\n",
        "y_pred_plot['value'] = y_pred / sc.scale_\n",
        "\n",
        "plt.figure(figsize=(15, 10))\n",
        "plt.plot(y_test_plot)\n",
        "plt.plot(y_pred_plot)\n",
        "plt.legend(['real', 'predict'])\n",
        "plt.ylabel(\"Gold ETF Price\")\n",
        "plt.savefig('output/draw03.png')\n",
        "plt.show()"
      ]
    },
    {
      "cell_type": "markdown",
      "metadata": {
        "id": "fJ41tfs3lNcF"
      },
      "source": [
        "#### 6.4 Plot training and validation loss per epoch"
      ]
    },
    {
      "cell_type": "code",
      "execution_count": null,
      "metadata": {
        "id": "hbVNXdiVlNcG"
      },
      "outputs": [],
      "source": [
        "loss = history.history['loss']\n",
        "\n",
        "epochs = range(len(loss)) # Get number of epochs"
      ]
    },
    {
      "cell_type": "code",
      "execution_count": null,
      "metadata": {
        "id": "O8Olc4NTlNcG"
      },
      "outputs": [],
      "source": [
        "plt.plot(epochs, loss, 'r')\n",
        "plt.title('Training loss and accuracy')\n",
        "plt.xlabel(\"Epochs\")\n",
        "plt.ylabel(\"Loss\")\n",
        "plt.legend([\"Loss\", \"Accuracy\"])\n",
        "plt.savefig('output/draw04.png')\n",
        "plt.figure(figsize=(15, 10))\n",
        "plt.show()"
      ]
    },
    {
      "cell_type": "code",
      "execution_count": null,
      "metadata": {
        "id": "36nycltTlNcH"
      },
      "outputs": [],
      "source": [
        "print(\"result predict: \", sc.inverse_transform(y_pred)[-1])"
      ]
    },
    {
      "cell_type": "markdown",
      "metadata": {
        "id": "XsuQTiWOlNcK"
      },
      "source": [
        "#### 6.5 the goodness of the fit"
      ]
    },
    {
      "cell_type": "code",
      "execution_count": null,
      "metadata": {
        "id": "dFh_reI8lNcL"
      },
      "outputs": [],
      "source": [
        "score = model.evaluate(X_test_t, y_test, verbose=1)\n",
        "print(score)"
      ]
    },
    {
      "cell_type": "code",
      "execution_count": null,
      "metadata": {
        "id": "cyGkNrcnlNcL"
      },
      "outputs": [],
      "source": [
        "score = sum(np.absolute(y_pred - y_test)) / sc.scale_\n",
        "print(score)"
      ]
    },
    {
      "cell_type": "code",
      "execution_count": null,
      "metadata": {
        "id": "9-_ghKcRlNcM"
      },
      "outputs": [],
      "source": [
        "delta = pd.DataFrame(index=test.index)\n",
        "delta = delta.iloc[1:]\n",
        "delta['value'] = np.absolute(y_pred - y_test) / sc.scale_\n",
        "plt.figure(figsize=(15, 10))\n",
        "plt.plot(delta)\n",
        "plt.legend(['delta'])\n",
        "plt.ylabel(\"Delta Price\")\n",
        "plt.savefig('output/draw05.png')\n",
        "plt.show()"
      ]
    },
    {
      "cell_type": "markdown",
      "metadata": {
        "id": "_kb8I8yxlNcM"
      },
      "source": [
        "Accuracy"
      ]
    },
    {
      "cell_type": "code",
      "execution_count": null,
      "metadata": {
        "id": "CE1-gs_6lNcN"
      },
      "outputs": [],
      "source": [
        "import sklearn\n",
        "def rmse(y_test, y_pred):\n",
        "    return math.sqrt(mean_squared_error(y_test, y_pred))\n",
        "from sklearn.metrics import r2_score\n",
        "print(\"mean absolute errors: \", sklearn.metrics.mean_absolute_error(y_test, y_pred), \", accuracy: \", 100 - 100 * sklearn.metrics.mean_absolute_error(y_test, y_pred))\n",
        "print(\"mean squared errors: \", mean_squared_error(y_test, y_pred), \", accuracy: \", 100 - 100 * mean_squared_error(y_test, y_pred))\n",
        "print(\"root mean squared error: \", rmse(y_test, y_pred), \", accuracy: \", 100 - 100 * rmse(y_test, y_pred))\n",
        "print(\"r2 score: \", r2_score(y_test, y_pred) * 100)"
      ]
    },
    {
      "cell_type": "markdown",
      "metadata": {
        "id": "X-CzmRXMlNcO"
      },
      "source": [
        "r2 score"
      ]
    },
    {
      "cell_type": "markdown",
      "metadata": {
        "id": "mj0qwT-rlNcP"
      },
      "source": [
        "#### 6.6 Save model"
      ]
    },
    {
      "cell_type": "code",
      "execution_count": null,
      "metadata": {
        "id": "9vFm9wamlNcP"
      },
      "outputs": [],
      "source": [
        "model.save_weights('my_model_weights.h5')"
      ]
    },
    {
      "cell_type": "code",
      "execution_count": null,
      "metadata": {
        "id": "PwCZIb8BlNcQ"
      },
      "outputs": [],
      "source": [
        "model.save('my_model')"
      ]
    },
    {
      "cell_type": "markdown",
      "metadata": {
        "id": "iujj9GKxlNcQ"
      },
      "source": [
        "### 6.7 Optimal"
      ]
    },
    {
      "cell_type": "code",
      "execution_count": null,
      "metadata": {
        "id": "F5jPCe_rlNcQ"
      },
      "outputs": [],
      "source": [
        "%%time\n",
        "results = pd.DataFrame()\n",
        "epochs = [10]\n",
        "for i in epochs:\n",
        "    error_scores = list()\n",
        "    for j in range(30):\n",
        "        history = model.fit(X_train_t, y_train, epochs=i, verbose=0)\n",
        "        y_pred = model.predict(X_test_t)\n",
        "        error_scores.append(rmse(y_test, y_pred))\n",
        "    \n",
        "    \n",
        "    results[str(i)] = error_scores\n",
        "\n",
        "print(results.describe())\n",
        "# save boxplot\n",
        "results.boxplot()\n",
        "plt.savefig('output/draw06.png')\n",
        "plt.show()"
      ]
    },
    {
      "cell_type": "code",
      "source": [
        "#@title\n",
        "# import datetime and get today's date\n",
        "\n",
        "import datetime as dt\n",
        "current_date = dt.datetime.now()\n",
        "print(current_date)\n",
        "# Get the data\n",
        "data = yf.download('GLD', '2008-06-01', current_date, auto_adjust=True)\n",
        "data['S_3'] = data['Close'].rolling(window=3).mean()\n",
        "data['S_9'] = data['Close'].rolling(window=9).mean()"
      ],
      "metadata": {
        "cellView": "form",
        "id": "6VSi3gHFpMtr"
      },
      "execution_count": null,
      "outputs": []
    },
    {
      "cell_type": "code",
      "source": [
        "import datetime as dt\n",
        "current_date = dt.datetime.now()\n",
        "look_back=15\n",
        "df = yf.download('GLD', end=current_date, auto_adjust=True)\n",
        "close_data = df['Close'].values\n",
        "close_data = close_data.reshape((-1))\n",
        "\n",
        "def predict(num_prediction, model):\n",
        "    prediction_list = close_data[-look_back:]\n",
        "    \n",
        "    for _ in range(num_prediction):\n",
        "        x = prediction_list[-look_back:]\n",
        "        x = x.reshape((1, look_back, 1))\n",
        "        out = model.predict(x)[0][0]\n",
        "        #print(out)\n",
        "        prediction_list = np.append(prediction_list, 100+out*10)\n",
        "    prediction_list = prediction_list[look_back-1:]\n",
        "        \n",
        "    return prediction_list\n",
        "    \n",
        "def predict_dates(num_prediction):\n",
        "    last_date = df.index.values[-1]\n",
        "    prediction_dates = pd.date_range(last_date, periods=num_prediction+1).tolist()\n",
        "    return prediction_dates\n",
        "\n",
        "num_prediction = 30\n",
        "forecast = predict(num_prediction, model)\n",
        "forecast_dates = predict_dates(num_prediction)"
      ],
      "metadata": {
        "id": "dDfkQ_DY0cn9"
      },
      "execution_count": null,
      "outputs": []
    },
    {
      "cell_type": "code",
      "source": [
        "import plotly.graph_objects as go\n",
        "trace1 = go.Scatter(\n",
        "    x = df.index.tolist(),\n",
        "    y = close_data,\n",
        "    mode = 'lines',\n",
        "    name = 'Data'\n",
        ")\n",
        "trace2 = go.Scatter(\n",
        "    x = forecast_dates,\n",
        "    y = forecast,\n",
        "    mode = 'lines',\n",
        "    name = 'Prediction'\n",
        ")\n",
        "layout = go.Layout(\n",
        "    title = \"Gold Rates\",\n",
        "    xaxis = {'title' : \"Date\"},\n",
        "    yaxis = {'title' : \"Close\"}\n",
        ")\n",
        "\n",
        "fig = go.Figure(data=[trace1, trace2], layout=layout)\n",
        "fig.show()"
      ],
      "metadata": {
        "id": "0U8fSHbfHE-q"
      },
      "execution_count": null,
      "outputs": []
    }
  ],
  "metadata": {
    "kernelspec": {
      "display_name": "Python 3",
      "language": "python",
      "name": "python3"
    },
    "language_info": {
      "codemirror_mode": {
        "name": "ipython",
        "version": 3
      },
      "file_extension": ".py",
      "mimetype": "text/x-python",
      "name": "python",
      "nbconvert_exporter": "python",
      "pygments_lexer": "ipython3",
      "version": "3.7.6"
    },
    "colab": {
      "provenance": []
    }
  },
  "nbformat": 4,
  "nbformat_minor": 0
}